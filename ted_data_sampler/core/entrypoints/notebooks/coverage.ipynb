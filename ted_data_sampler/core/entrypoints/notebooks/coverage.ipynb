{
 "cells": [
  {
   "metadata": {
    "collapsed": false,
    "pycharm": {
     "name": "#%%\n"
    },
    "ExecuteTime": {
     "end_time": "2024-12-06T14:32:28.257052Z",
     "start_time": "2024-12-06T14:32:28.211586Z"
    }
   },
   "cell_type": "code",
   "source": [
    "import logging\n",
    "from pathlib import Path\n",
    "from typing import List\n",
    "\n",
    "from tqdm import tqdm\n",
    "\n",
    "from ted_data_sampler.core.adapters.XPathValidator import XPATHValidator\n",
    "from ted_data_sampler.core.services.import_eforms_fields import extract_xpaths_by_sdk_version\n",
    "\n"
   ],
   "outputs": [],
   "execution_count": 11
  },
  {
   "metadata": {
    "ExecuteTime": {
     "end_time": "2024-12-06T14:32:28.315126Z",
     "start_time": "2024-12-06T14:32:28.279666Z"
    }
   },
   "cell_type": "code",
   "source": [
    "def generate_coverage(notices_folder_path: Path, xpaths_to_cover: List[str], sdk_version: str):\n",
    "\n",
    "    stats_file_path = notices_folder_path / \"stats.txt\"\n",
    "    stats_file_path.unlink(missing_ok=True)\n",
    "    \n",
    "    stats_file = stats_file_path.open(\"a\")\n",
    "    stats_file.write(f\"Xpaths to cover: {len(xpaths_to_cover)}\\n\")\n",
    "    xpaths_to_cover = list(set(xpaths_to_cover))\n",
    "    stats_file.write(f\"Distinct Xpaths to cover: {len(xpaths_to_cover)}\\n\")\n",
    "\n",
    "    notices_path = [notice_path for notice_path in notices_folder_path.rglob('*.xml')]\n",
    "    pbar = tqdm(total=len(xpaths_to_cover), desc=f\"The coverage of XPaths for {sdk_version}\\tsdk version queried only in sampled notices ({len(notices_path)})\\twith the same version\", dynamic_ncols=True)\n",
    "\n",
    "    stats_file.write(f\"Nr. of eform notices in {sdk_version} sdk version folder: {len(notices_path)}\\n\")\n",
    "    covered_xpaths = []\n",
    "    for idx, notice_path in enumerate(notices_path):\n",
    "\n",
    "        validator = XPATHValidator(xml_content=notice_path.read_text(), logger=logging.getLogger())\n",
    "        for xpath in xpaths_to_cover:\n",
    "            if xpath not in covered_xpaths:\n",
    "                try:\n",
    "                    result = validator.validate(xpath_expression=xpath)\n",
    "                    if len(result) > 0:\n",
    "                        covered_xpaths.append(xpath)\n",
    "                        pbar.update(1)\n",
    "                except Exception as e:\n",
    "                    stats_file.write(f\"Something went wrong with: {e}\")\n",
    "                    stats_file.write(f\"Xpath: {xpath}\")\n",
    "                    stats_file.write(f\"id: {idx} | File: {notice_path}\")\n",
    "                    raise e\n",
    "\n",
    "        if len(covered_xpaths) == xpaths_to_cover:\n",
    "            stats_file.write(f\"Covered in: {idx} notices\")\n",
    "\n",
    "    pbar.close()\n",
    "    progress_bar_str = tqdm.format_meter(\n",
    "        n=pbar.n,  # Current iteration count\n",
    "        total=pbar.total,  # Total iterations\n",
    "        elapsed=pbar.format_dict[\"elapsed\"],  # Elapsed time\n",
    "        ncols=pbar.ncols,  # Number of columns\n",
    "        prefix=pbar.desc  # Prefix (if any)\n",
    "    )\n",
    "    \n",
    "    stats_file.write(f\"Nr. of covered xpaths: {len(covered_xpaths)}\\n\")\n",
    "    uncovered_xpaths = list(set(xpaths_to_cover) - set(covered_xpaths))\n",
    "    stats_file.write(f\"Uncovered xpaths: {len(uncovered_xpaths)}\\n\")\n",
    "    stats_file.write(f\"{progress_bar_str}\\n\")\n",
    "    stats_file.close()\n",
    "    (notices_folder_path / \"./uncovered_xpaths.txt\").write_text(\"\\n\".join(uncovered_xpaths))\n",
    "    (notices_folder_path / \"./covered_xpaths.txt\").write_text(\"\\n\".join(covered_xpaths))\n",
    "    (notices_folder_path / \"./xpaths_to_cover.txt\").write_text(\"\\n\".join(xpaths_to_cover))"
   ],
   "outputs": [],
   "execution_count": 12
  },
  {
   "metadata": {
    "ExecuteTime": {
     "end_time": "2024-12-06T14:35:03.627843Z",
     "start_time": "2024-12-06T14:32:28.434191Z"
    }
   },
   "cell_type": "code",
   "source": [
    "\n",
    "input_folder = Path(\"/mnt/c/Users/user/Desktop/data_samples_eforms_575_group_by_sdk_version_notice_type_notice_subtype\")\n",
    "xpaths_versions: List[str] = [\"1.3.0\", \"1.4.0\", \"1.5.0\", \"1.6.0\", \"1.7.0\", \"1.8.0\", \"1.9.1\", \"1.10.0\", \"1.11.0\", \"1.12.0\", \"1.13.0-rc.3\"]\n",
    "\n",
    "assert input_folder.is_dir()\n",
    "\n",
    "all_xpaths = []\n",
    "for xpath_version in xpaths_versions:\n",
    "    samples_folder_name = input_folder / f\"eforms-sdk-{'.'.join(xpath_version.split('.')[:2])}\"\n",
    "    if samples_folder_name.is_dir():\n",
    "        xpaths: List[str] = extract_xpaths_by_sdk_version(xpath_version)\n",
    "        coverage_result = generate_coverage(samples_folder_name, xpaths, xpath_version)\n",
    "        all_xpaths.extend(xpaths)\n",
    "        \n",
    "all_xpaths = list(set(all_xpaths))\n",
    "generate_coverage(input_folder, all_xpaths, \"all\")"
   ],
   "outputs": [
    {
     "name": "stderr",
     "output_type": "stream",
     "text": [
      "The coverage of XPaths for 1.3.0\tsdk version queried only in sampled notices (33)\twith the same version:  35%|███▌      | 343/971 [00:03<00:05, 111.81it/s]\n",
      "The coverage of XPaths for 1.5.0\tsdk version queried only in sampled notices (10)\twith the same version:  28%|██▊       | 273/984 [00:00<00:01, 454.58it/s] \n",
      "The coverage of XPaths for 1.6.0\tsdk version queried only in sampled notices (39)\twith the same version:  43%|████▎     | 418/982 [00:02<00:02, 192.03it/s] \n",
      "The coverage of XPaths for 1.7.0\tsdk version queried only in sampled notices (98)\twith the same version:  68%|██████▊   | 670/986 [00:04<00:01, 165.55it/s] \n",
      "The coverage of XPaths for 1.8.0\tsdk version queried only in sampled notices (70)\twith the same version:  52%|█████▏    | 536/1040 [00:03<00:03, 134.85it/s] \n",
      "The coverage of XPaths for 1.9.1\tsdk version queried only in sampled notices (81)\twith the same version:  61%|██████    | 920/1507 [00:06<00:03, 151.62it/s] \n",
      "The coverage of XPaths for 1.10.0\tsdk version queried only in sampled notices (104)\twith the same version:  72%|███████▏  | 1087/1509 [00:07<00:02, 151.56it/s]\n",
      "The coverage of XPaths for 1.11.0\tsdk version queried only in sampled notices (77)\twith the same version:  65%|██████▍   | 976/1512 [00:05<00:03, 168.61it/s]\n",
      "The coverage of XPaths for 1.12.0\tsdk version queried only in sampled notices (63)\twith the same version:  63%|██████▎   | 963/1522 [00:05<00:02, 191.11it/s] \n",
      "The coverage of XPaths for all\tsdk version queried only in sampled notices (575)\twith the same version:  76%|███████▌  | 1290/1696 [00:32<00:10, 39.79it/s] \n"
     ]
    }
   ],
   "execution_count": 13
  }
 ],
 "metadata": {
  "kernelspec": {
   "display_name": "Python 3",
   "language": "python",
   "name": "python3"
  },
  "language_info": {
   "codemirror_mode": {
    "name": "ipython",
    "version": 2
   },
   "file_extension": ".py",
   "mimetype": "text/x-python",
   "name": "python",
   "nbconvert_exporter": "python",
   "pygments_lexer": "ipython2",
   "version": "2.7.6"
  }
 },
 "nbformat": 4,
 "nbformat_minor": 0
}
