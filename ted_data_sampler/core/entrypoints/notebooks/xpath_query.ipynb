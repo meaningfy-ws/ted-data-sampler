{
 "cells": [
  {
   "cell_type": "code",
   "id": "initial_id",
   "metadata": {
    "collapsed": true,
    "ExecuteTime": {
     "end_time": "2024-12-19T10:42:34.808245Z",
     "start_time": "2024-12-19T10:42:34.802625Z"
    }
   },
   "source": [
    "import logging\n",
    "from logging import Logger\n",
    "from pydantic import BaseModel\n",
    "from ted_data_sampler.core.adapters.XPathValidator import XPATHValidator\n",
    "from pathlib import Path\n",
    "from typing import List"
   ],
   "outputs": [],
   "execution_count": 13
  },
  {
   "metadata": {
    "ExecuteTime": {
     "end_time": "2024-12-19T10:42:34.876261Z",
     "start_time": "2024-12-19T10:42:34.870534Z"
    }
   },
   "cell_type": "code",
   "source": [
    "NOTICES_FOLDER_PATH = Path(\"/mnt/c/Users/user/Desktop/ted-data-sampler/tests/test_data/test_eform_notices\")\n",
    "\n",
    "XPATHS = [\n",
    "    \"/*/cbc:ID\",\n",
    "    \"/*/cbc:ID/@schemeName\",\n",
    "    \"/*/cbc:ID[@schemeName='notice-id']\",\n",
    "    \".//ext:UBLExtensions/ext:UBLExtension/ext:ExtensionContent/efext:EformsExtension/efac:Publication/efbc:NoticePublicationID[@schemeName='ojs-notice-id']\"\n",
    "]"
   ],
   "id": "a6feb3adad629cf6",
   "outputs": [],
   "execution_count": 14
  },
  {
   "metadata": {
    "ExecuteTime": {
     "end_time": "2024-12-19T10:42:34.937488Z",
     "start_time": "2024-12-19T10:42:34.925316Z"
    }
   },
   "cell_type": "code",
   "source": [
    "NOTICE_PATHS: List[Path] = list(NOTICES_FOLDER_PATH.rglob(\"*.xml\"))\n",
    "print(len(NOTICE_PATHS))"
   ],
   "id": "5d842ff37a93a580",
   "outputs": [
    {
     "name": "stdout",
     "output_type": "stream",
     "text": [
      "10\n"
     ]
    }
   ],
   "execution_count": 15
  },
  {
   "metadata": {
    "ExecuteTime": {
     "end_time": "2024-12-19T10:42:35.002968Z",
     "start_time": "2024-12-19T10:42:34.988024Z"
    }
   },
   "cell_type": "code",
   "source": [
    "\n",
    "\n",
    "class XPathQueryResult(BaseModel):\n",
    "    xpath: str\n",
    "    query_result: List[str]\n",
    "    \n",
    "    def __str__(self):\n",
    "        if not self.query_result:\n",
    "            return \"[]\"\n",
    "        return \",\".join(self.query_result)\n",
    "\n",
    "class NoticeQueryResult(BaseModel):\n",
    "    file_path: Path\n",
    "    xpath_query_results: List[XPathQueryResult]\n",
    "    file_name: str\n",
    "    \n",
    "    def __str__(self):\n",
    "        return \"{}\\t{}\".format(self.file_name, \"\\t\".join([ str(xpath_query_results) for xpath_query_results in self.xpath_query_results ]))\n",
    "    \n",
    "        \n",
    "class NoticeQuerySummary(BaseModel):\n",
    "    xpaths: List[str]\n",
    "    notices_query_result: List[NoticeQueryResult]\n",
    "    \n",
    "    def __str__(self):\n",
    "        return \"{}\\t{}\".format(\"Notice\", \"\\t\".join( self.xpaths ))\n",
    "\n",
    "\n",
    "def query_notices_with_given_xpaths(xpaths: List[str], notice_paths: List[Path], logger: Logger) -> List[NoticeQueryResult]:    \n",
    "    result = NoticeQuerySummary(xpaths=xpaths, notices_query_result=[])\n",
    "    \n",
    "    for notice_path in notice_paths:\n",
    "        xml_content = notice_path.read_text()\n",
    "        xpath_validator = XPATHValidator(logger=logger, xml_content=xml_content)\n",
    "        notice_result: NoticeQueryResult = NoticeQueryResult(file_path=notice_path, xpath_query_results=[], file_name=notice_path.name)\n",
    "        for xpath in xpaths:\n",
    "            try:\n",
    "                validate_result = xpath_validator.validate(xpath)\n",
    "            except Exception as e:\n",
    "                logger.error(e)\n",
    "                query_result = []\n",
    "            else:\n",
    "                query_result: List[str] = [xpath_result.value for xpath_result in validate_result ]\n",
    "            notice_result.xpath_query_results.append( XPathQueryResult(xpath=xpath, query_result=query_result) )\n",
    "            \n",
    "        result.notices_query_result.append(notice_result)\n",
    "\n",
    "    return result"
   ],
   "id": "fc97f962f401a11b",
   "outputs": [],
   "execution_count": 16
  },
  {
   "metadata": {
    "ExecuteTime": {
     "end_time": "2024-12-19T10:42:35.149427Z",
     "start_time": "2024-12-19T10:42:35.052476Z"
    }
   },
   "cell_type": "code",
   "source": "result = query_notices_with_given_xpaths(xpaths=XPATHS, notice_paths=NOTICE_PATHS, logger=logging.getLogger())",
   "id": "afac3ab50e0dad41",
   "outputs": [],
   "execution_count": 17
  },
  {
   "metadata": {
    "ExecuteTime": {
     "end_time": "2024-12-19T10:42:35.182940Z",
     "start_time": "2024-12-19T10:42:35.177638Z"
    }
   },
   "cell_type": "code",
   "source": [
    "print(str(result))\n",
    "for notice_result in result.notices_query_result:\n",
    "    print(str(notice_result))"
   ],
   "id": "f9b551e5b646cf76",
   "outputs": [
    {
     "name": "stdout",
     "output_type": "stream",
     "text": [
      "Notice\t/*/cbc:ID\t/*/cbc:ID/@schemeName\t/*/cbc:ID[@schemeName='notice-id']\t.//ext:UBLExtensions/ext:UBLExtension/ext:ExtensionContent/efext:EformsExtension/efac:Publication/efbc:NoticePublicationID[@schemeName='ojs-notice-id']\n",
      "00468415_2024.xml\t45602351-9e8c-493c-b9cf-bd71db4ffa08\tnotice-id\t45602351-9e8c-493c-b9cf-bd71db4ffa08\t00468415-2024\n",
      "00468603_2024.xml\t[]\t[]\t[]\t00468603-2024\n",
      "00468629_2024.xml\t44d27597-9a3c-47f9-92c2-b66ee39392b3\tnotice-id\t44d27597-9a3c-47f9-92c2-b66ee39392b3\t00468629-2024\n",
      "00468697_2024.xml\t27866296-b033-419b-bf98-a8e62a8b74bd\tnotice-id\t27866296-b033-419b-bf98-a8e62a8b74bd\t00468697-2024\n",
      "00468740_2024.xml\td44b7539-fc43-4284-b679-70a08ab8e886\tnotice-id\td44b7539-fc43-4284-b679-70a08ab8e886\t00468740-2024\n",
      "00468749_2024.xml\tb8050444-3a2d-4777-8663-ee1235e09ef1,b8050444-3a2d-4777-8663-ee1235e09ef2\tnotice-id,notice-id\tb8050444-3a2d-4777-8663-ee1235e09ef1,b8050444-3a2d-4777-8663-ee1235e09ef2\t00468749-2024\n",
      "00468785_2024.xml\td05b1f29-139a-4009-9975-3b9260cfd683\tnotice-id\td05b1f29-139a-4009-9975-3b9260cfd683\t00468785-2024\n",
      "00468788_2024.xml\t47d8efe0-a96c-4dc5-b87b-f9fbcb8e9cd5\tnotice-id\t47d8efe0-a96c-4dc5-b87b-f9fbcb8e9cd5\t00468788-2024\n",
      "00468876_2024.xml\t02258b1b-fb55-47a2-a981-cdabca731d08\tnotice-id\t02258b1b-fb55-47a2-a981-cdabca731d08\t00468876-2024\n",
      "00468892_2024.xml\t94341dbf-df86-45d0-9dfa-5b9d166692f2\tnotice-id\t94341dbf-df86-45d0-9dfa-5b9d166692f2\t00468892-2024\n"
     ]
    }
   ],
   "execution_count": 18
  }
 ],
 "metadata": {
  "kernelspec": {
   "display_name": "Python 3",
   "language": "python",
   "name": "python3"
  },
  "language_info": {
   "codemirror_mode": {
    "name": "ipython",
    "version": 2
   },
   "file_extension": ".py",
   "mimetype": "text/x-python",
   "name": "python",
   "nbconvert_exporter": "python",
   "pygments_lexer": "ipython2",
   "version": "2.7.6"
  }
 },
 "nbformat": 4,
 "nbformat_minor": 5
}
